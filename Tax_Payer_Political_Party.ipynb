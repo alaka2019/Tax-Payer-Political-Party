{
  "nbformat": 4,
  "nbformat_minor": 0,
  "metadata": {
    "colab": {
      "name": "Tax Payer Political Party.ipynb",
      "provenance": [],
      "collapsed_sections": [],
      "authorship_tag": "ABX9TyPTl/SGopBjwnOdjWBFmLti",
      "include_colab_link": true
    },
    "kernelspec": {
      "name": "python3",
      "display_name": "Python 3"
    }
  },
  "cells": [
    {
      "cell_type": "markdown",
      "metadata": {
        "id": "view-in-github",
        "colab_type": "text"
      },
      "source": [
        "<a href=\"https://colab.research.google.com/github/alaka2019/Tax-Payer-Political-Party/blob/main/Tax_Payer_Political_Party.ipynb\" target=\"_parent\"><img src=\"https://colab.research.google.com/assets/colab-badge.svg\" alt=\"Open In Colab\"/></a>"
      ]
    },
    {
      "cell_type": "code",
      "metadata": {
        "id": "lgZef5q8g_pT",
        "colab": {
          "base_uri": "https://localhost:8080/"
        },
        "outputId": "f612573d-8121-4eac-a7cb-c0f09c939548"
      },
      "source": [
        "import pandas as pd\n",
        "tax_data  = pd.read_csv(\"https://raw.githubusercontent.com/dphi-official/Datasets/master/tax_payers/train_set_label.csv\" )\n",
        "print(tax_data.shape)\n",
        "test_data = pd.read_csv('https://raw.githubusercontent.com/dphi-official/Datasets/master/tax_payers/test_set_label.csv')\n",
        "print(test_data.shape)"
      ],
      "execution_count": null,
      "outputs": [
        {
          "output_type": "stream",
          "text": [
            "(803, 11)\n",
            "(201, 10)\n"
          ],
          "name": "stdout"
        }
      ]
    },
    {
      "cell_type": "code",
      "metadata": {
        "colab": {
          "base_uri": "https://localhost:8080/"
        },
        "id": "5j8dPo-O2sUY",
        "outputId": "22c71ac7-7499-4a63-bcc3-2a3d8a73426d"
      },
      "source": [
        "tax_train=tax_data.drop('Unnamed: 0',axis=1)\n",
        "tax_train.shape"
      ],
      "execution_count": null,
      "outputs": [
        {
          "output_type": "execute_result",
          "data": {
            "text/plain": [
              "(803, 10)"
            ]
          },
          "metadata": {
            "tags": []
          },
          "execution_count": 2
        }
      ]
    },
    {
      "cell_type": "code",
      "metadata": {
        "colab": {
          "base_uri": "https://localhost:8080/"
        },
        "id": "be6JAF9386RM",
        "outputId": "52cc4e46-539e-41c6-9e4c-d4163b30369a"
      },
      "source": [
        "tax_test=test_data.drop('Unnamed: 0',axis=1)\n",
        "tax_test.shape"
      ],
      "execution_count": null,
      "outputs": [
        {
          "output_type": "execute_result",
          "data": {
            "text/plain": [
              "(201, 9)"
            ]
          },
          "metadata": {
            "tags": []
          },
          "execution_count": 3
        }
      ]
    },
    {
      "cell_type": "code",
      "metadata": {
        "id": "8PKqnckDhy-8",
        "colab": {
          "base_uri": "https://localhost:8080/"
        },
        "outputId": "f3e75f65-b58a-4081-d16e-f28baf270d83"
      },
      "source": [
        "print(tax_data.head)\n",
        "print(test_data.head)\n",
        "tax_features=tax_data.drop('Unnamed: 0',axis=1)"
      ],
      "execution_count": null,
      "outputs": [
        {
          "output_type": "stream",
          "text": [
            "<bound method NDFrame.head of      Unnamed: 0     HHI    HHDL  ...  Filed in 2016  Filed in 2015  PoliticalParty\n",
            "0            61  183414  -12402  ...              0              1        Democrat\n",
            "1           501  129786  700251  ...              0              0      Republican\n",
            "2           658  268343  493411  ...              0              1     Independent\n",
            "3           703  290506 -433408  ...              0              1      Republican\n",
            "4           702   90108  907135  ...              1              0        Democrat\n",
            "..          ...     ...     ...  ...            ...            ...             ...\n",
            "798         476  153304  971909  ...              0              0        Democrat\n",
            "799         657  136652 -184616  ...              0              0        Democrat\n",
            "800         596   51066 -900262  ...              0              0        Democrat\n",
            "801         561  123721  -51448  ...              1              1      Republican\n",
            "802         635  189020  839546  ...              0              0      Republican\n",
            "\n",
            "[803 rows x 11 columns]>\n",
            "<bound method NDFrame.head of      Unnamed: 0     HHI    HHDL  ...  Filed in 2017  Filed in 2016  Filed in 2015\n",
            "0            17  253274 -633752  ...              0              1              1\n",
            "1           590   47107  322850  ...              1              1              0\n",
            "2           224  111874  300583  ...              0              1              1\n",
            "3           960   96670  107419  ...              0              0              0\n",
            "4            57  128669  341273  ...              1              1              1\n",
            "..          ...     ...     ...  ...            ...            ...            ...\n",
            "196          51  138204  144986  ...              1              1              0\n",
            "197         705   73250 -810927  ...              1              0              1\n",
            "198         542  134376  352116  ...              1              0              0\n",
            "199         929   70820  260337  ...              1              0              1\n",
            "200         528  114510  930683  ...              0              0              1\n",
            "\n",
            "[201 rows x 10 columns]>\n"
          ],
          "name": "stdout"
        }
      ]
    },
    {
      "cell_type": "code",
      "metadata": {
        "id": "LY2RtwIB9PSy",
        "colab": {
          "base_uri": "https://localhost:8080/"
        },
        "outputId": "c94250ca-1f46-465d-9f0e-5ce28acaef07"
      },
      "source": [
        "tr=tax_train.drop('PoliticalParty',axis=1)\n",
        "tax_features=tr.append(tax_test)\n",
        "tax_features = tax_features.reset_index(drop=True)\n",
        "\n",
        "print(tax_features.dtypes)\n",
        "print(tax_features.shape)"
      ],
      "execution_count": null,
      "outputs": [
        {
          "output_type": "stream",
          "text": [
            "HHI              int64\n",
            "HHDL             int64\n",
            "Married          int64\n",
            "CollegGrads      int64\n",
            "AHHAge           int64\n",
            "Cars             int64\n",
            "Filed in 2017    int64\n",
            "Filed in 2016    int64\n",
            "Filed in 2015    int64\n",
            "dtype: object\n",
            "(1004, 9)\n"
          ],
          "name": "stdout"
        }
      ]
    },
    {
      "cell_type": "code",
      "metadata": {
        "id": "5_qSjg9wNIk1",
        "colab": {
          "base_uri": "https://localhost:8080/"
        },
        "outputId": "0730c149-3f42-4ed9-970b-dc70735d897e"
      },
      "source": [
        "from sklearn.preprocessing import MinMaxScaler\n",
        "\n",
        "scaler = MinMaxScaler() \n",
        "scaled_values = scaler.fit_transform(tax_features) \n",
        "tax_features.loc[:,:] = scaled_values\n",
        "\n",
        "print(tax_features.head(10))"
      ],
      "execution_count": null,
      "outputs": [
        {
          "output_type": "stream",
          "text": [
            "        HHI      HHDL  Married  ...  Filed in 2017  Filed in 2016  Filed in 2015\n",
            "0  0.611752  0.493889      0.5  ...            0.0            0.0            1.0\n",
            "1  0.432703  0.850283      1.0  ...            0.0            0.0            0.0\n",
            "2  0.895307  0.746844      1.0  ...            1.0            0.0            1.0\n",
            "3  0.969304  0.283347      0.5  ...            1.0            0.0            1.0\n",
            "4  0.300229  0.953745      0.5  ...            1.0            1.0            0.0\n",
            "5  0.279549  0.846780      0.5  ...            1.0            0.0            0.0\n",
            "6  0.480256  0.333850      0.0  ...            0.0            1.0            0.0\n",
            "7  0.524478  0.263878      0.0  ...            1.0            0.0            1.0\n",
            "8  0.513313  0.747328      0.5  ...            0.0            1.0            1.0\n",
            "9  0.389850  0.780226      0.0  ...            0.0            0.0            1.0\n",
            "\n",
            "[10 rows x 9 columns]\n"
          ],
          "name": "stdout"
        }
      ]
    },
    {
      "cell_type": "code",
      "metadata": {
        "id": "HNEK8mjKnYk4",
        "colab": {
          "base_uri": "https://localhost:8080/"
        },
        "outputId": "1b05a8a9-c89f-487b-ac85-59e531fde863"
      },
      "source": [
        "from sklearn.feature_selection import VarianceThreshold\n",
        "\n",
        "tax_var = VarianceThreshold()\n",
        "\n",
        "# Perform variance thresholding\n",
        "tax_var.fit_transform(tax_features)\n",
        "\n",
        "# Print the name and variance of each feature\n",
        "for feature in zip(tax_features.columns, tax_var.variances_):\n",
        "    print(feature)\n"
      ],
      "execution_count": null,
      "outputs": [
        {
          "output_type": "stream",
          "text": [
            "('HHI', 0.0826836909431263)\n",
            "('HHDL', 0.08808077398785347)\n",
            "('Married', 0.16262539483500266)\n",
            "('CollegGrads', 0.11377771781400295)\n",
            "('AHHAge', 0.0814913078876256)\n",
            "('Cars', 0.11570526658307012)\n",
            "('Filed in 2017', 0.24993650894430242)\n",
            "('Filed in 2016', 0.24983234393104867)\n",
            "('Filed in 2015', 0.24990079522547254)\n"
          ],
          "name": "stdout"
        }
      ]
    },
    {
      "cell_type": "code",
      "metadata": {
        "id": "FBegDwlqAbEt",
        "colab": {
          "base_uri": "https://localhost:8080/",
          "height": 335
        },
        "outputId": "432a0fcc-bf33-4551-8fa1-14d63208cc7a"
      },
      "source": [
        "import matplotlib.pyplot as plt\n",
        "%matplotlib inline\n",
        "\n",
        "plt.figure(figsize=(4,4))\n",
        "plt.bar(x=tax_features.columns, height=tax_var.variances_, color='tomato')\n",
        "plt.xticks(rotation='vertical')\n",
        "plt.ylabel('Variance')\n",
        "plt.title('Variance Comparison')\n",
        "\n",
        "plt.show()"
      ],
      "execution_count": null,
      "outputs": [
        {
          "output_type": "display_data",
          "data": {
            "image/png": "[encoded data removed]",
            "text/plain": [
              "<Figure size 288x288 with 1 Axes>"
            ]
          },
          "metadata": {
            "tags": [],
            "needs_background": "light"
          }
        }
      ]
    },
    {
      "cell_type": "code",
      "metadata": {
        "colab": {
          "base_uri": "https://localhost:8080/"
        },
        "id": "uvk-qi3qAsJT",
        "outputId": "3fa8bede-6a0c-4f74-f2db-a31e316daadd"
      },
      "source": [
        "selector = VarianceThreshold(threshold=0.15)\n",
        "\n",
        "tax_features_new = selector.fit_transform(tax_features)\n",
        "\n",
        "print('Number of features before variance thresholding: {}'.format(tax_features.shape[1]))\n",
        "print('Number of features after variance thresholding: {}'.format(tax_features_new.shape[1]))"
      ],
      "execution_count": null,
      "outputs": [
        {
          "output_type": "stream",
          "text": [
            "Number of features before variance thresholding: 9\n",
            "Number of features after variance thresholding: 4\n"
          ],
          "name": "stdout"
        }
      ]
    },
    {
      "cell_type": "code",
      "metadata": {
        "id": "6OHGIZjokvY_"
      },
      "source": [
        "tax_features = ['Married','Filed in 2017','Filed in 2016','Filed in 2015']\n",
        "tax_labels = ['PoliticalParty']\n",
        "\n",
        "tax_train_features = tax_train[tax_features]\n",
        "tax_train_label = tax_train[tax_labels]\n",
        "\n",
        "tax_test_features = tax_test[tax_features]"
      ],
      "execution_count": null,
      "outputs": []
    },
    {
      "cell_type": "code",
      "metadata": {
        "colab": {
          "base_uri": "https://localhost:8080/"
        },
        "id": "vbjGnrJ0swov",
        "outputId": "cf9322c6-2b6a-42f0-b541-a4ea7f5b0e08"
      },
      "source": [
        "from sklearn.tree import DecisionTreeClassifier\n",
        "\n",
        "dt= DecisionTreeClassifier(max_depth=3)\n",
        "\n",
        "dt.fit(tax_train_features, tax_train_label)"
      ],
      "execution_count": null,
      "outputs": [
        {
          "output_type": "execute_result",
          "data": {
            "text/plain": [
              "DecisionTreeClassifier(ccp_alpha=0.0, class_weight=None, criterion='gini',\n",
              "                       max_depth=3, max_features=None, max_leaf_nodes=None,\n",
              "                       min_impurity_decrease=0.0, min_impurity_split=None,\n",
              "                       min_samples_leaf=1, min_samples_split=2,\n",
              "                       min_weight_fraction_leaf=0.0, presort='deprecated',\n",
              "                       random_state=None, splitter='best')"
            ]
          },
          "metadata": {
            "tags": []
          },
          "execution_count": 46
        }
      ]
    },
    {
      "cell_type": "code",
      "metadata": {
        "colab": {
          "base_uri": "https://localhost:8080/",
          "height": 17
        },
        "id": "3kDn8qtcIEXc",
        "outputId": "a54020e3-cbd7-49ad-efca-e4f2812e2f80"
      },
      "source": [
        "target = dt.predict(tax_test_features)\n",
        "\n",
        "res=pd.DataFrame(target)\n",
        "res.index=tax_test_features.index\n",
        "res.columns=[\"prediction\"]\n",
        "\n",
        "from google.colab import files\n",
        "res.to_csv('prediction_result.csv')         \n",
        "files.download('prediction_result.csv')"
      ],
      "execution_count": null,
      "outputs": [
        {
          "output_type": "display_data",
          "data": {
            "application/javascript": [
              "\n",
              "    async function download(id, filename, size) {\n",
              "      if (!google.colab.kernel.accessAllowed) {\n",
              "        return;\n",
              "      }\n",
              "      const div = document.createElement('div');\n",
              "      const label = document.createElement('label');\n",
              "      label.textContent = `Downloading \"${filename}\": `;\n",
              "      div.appendChild(label);\n",
              "      const progress = document.createElement('progress');\n",
              "      progress.max = size;\n",
              "      div.appendChild(progress);\n",
              "      document.body.appendChild(div);\n",
              "\n",
              "      const buffers = [];\n",
              "      let downloaded = 0;\n",
              "\n",
              "      const channel = await google.colab.kernel.comms.open(id);\n",
              "      // Send a message to notify the kernel that we're ready.\n",
              "      channel.send({})\n",
              "\n",
              "      for await (const message of channel.messages) {\n",
              "        // Send a message to notify the kernel that we're ready.\n",
              "        channel.send({})\n",
              "        if (message.buffers) {\n",
              "          for (const buffer of message.buffers) {\n",
              "            buffers.push(buffer);\n",
              "            downloaded += buffer.byteLength;\n",
              "            progress.value = downloaded;\n",
              "          }\n",
              "        }\n",
              "      }\n",
              "      const blob = new Blob(buffers, {type: 'application/binary'});\n",
              "      const a = document.createElement('a');\n",
              "      a.href = window.URL.createObjectURL(blob);\n",
              "      a.download = filename;\n",
              "      div.appendChild(a);\n",
              "      a.click();\n",
              "      div.remove();\n",
              "    }\n",
              "  "
            ],
            "text/plain": [
              "<IPython.core.display.Javascript object>"
            ]
          },
          "metadata": {
            "tags": []
          }
        },
        {
          "output_type": "display_data",
          "data": {
            "application/javascript": [
              "download(\"download_0838093a-2850-4fff-99af-124f362ca974\", \"prediction_result.csv\", 2830)"
            ],
            "text/plain": [
              "<IPython.core.display.Javascript object>"
            ]
          },
          "metadata": {
            "tags": []
          }
        }
      ]
    }
  ]
}